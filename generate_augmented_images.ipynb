{
 "cells": [
  {
   "cell_type": "code",
   "execution_count": 28,
   "id": "5e424e6b",
   "metadata": {},
   "outputs": [],
   "source": [
    "import pickle\n",
    "import functools\n",
    "from absl import flags\n",
    "from absl import logging\n",
    "import numpy as np\n",
    "\n",
    "import data_util\n",
    "import tensorflow.compat.v2 as tf"
   ]
  },
  {
   "cell_type": "code",
   "execution_count": 2,
   "id": "d1f65402",
   "metadata": {},
   "outputs": [],
   "source": [
    "with open('spectrograms/entire_data.pickle','rb') as f:\n",
    "      ds=pickle.load(f)"
   ]
  },
  {
   "cell_type": "code",
   "execution_count": 3,
   "id": "5d404f11",
   "metadata": {},
   "outputs": [],
   "source": [
    "def get_preprocess_fn(is_training, is_pretrain):\n",
    "      return functools.partial(\n",
    "          data_util.preprocess_image,\n",
    "          height=480,\n",
    "          width=640,\n",
    "          is_training=True,\n",
    "          color_jitter_strength=1.0,\n",
    "          test_crop=True)"
   ]
  },
  {
   "cell_type": "code",
   "execution_count": 4,
   "id": "38c3ce87",
   "metadata": {},
   "outputs": [],
   "source": [
    "preprocess_fn_pretrain = get_preprocess_fn(True, is_pretrain=True)"
   ]
  },
  {
   "cell_type": "code",
   "execution_count": 5,
   "id": "127bab0b",
   "metadata": {},
   "outputs": [],
   "source": [
    "def map_fn(image, label):\n",
    "    xs = []\n",
    "    for _ in range(2):  # Two transformations\n",
    "        xs.append(preprocess_fn_pretrain(image))\n",
    "    image = tf.concat(xs, -1)\n",
    "    label = tf.one_hot(label, 3)\n",
    "    return image, label"
   ]
  },
  {
   "cell_type": "code",
   "execution_count": 6,
   "id": "e8d9f037",
   "metadata": {},
   "outputs": [],
   "source": [
    "augmented_list=[]"
   ]
  },
  {
   "cell_type": "code",
   "execution_count": 7,
   "id": "298c726f",
   "metadata": {},
   "outputs": [],
   "source": [
    "for i in range(len(ds)):\n",
    "    augmented_list.append(map_fn(ds[i][0],ds[i][1]))   "
   ]
  },
  {
   "cell_type": "code",
   "execution_count": 8,
   "id": "a4267450",
   "metadata": {},
   "outputs": [
    {
     "data": {
      "text/plain": [
       "TensorShape([480, 640, 6])"
      ]
     },
     "execution_count": 8,
     "metadata": {},
     "output_type": "execute_result"
    }
   ],
   "source": [
    "augmented_list[0][0].shape"
   ]
  },
  {
   "cell_type": "code",
   "execution_count": 13,
   "id": "829409b5",
   "metadata": {},
   "outputs": [
    {
     "data": {
      "text/plain": [
       "tf.float32"
      ]
     },
     "execution_count": 13,
     "metadata": {},
     "output_type": "execute_result"
    }
   ],
   "source": [
    "augmented_list[0][0].dtype"
   ]
  },
  {
   "cell_type": "code",
   "execution_count": 9,
   "id": "507445db",
   "metadata": {},
   "outputs": [
    {
     "data": {
      "text/plain": [
       "TensorShape([3])"
      ]
     },
     "execution_count": 9,
     "metadata": {},
     "output_type": "execute_result"
    }
   ],
   "source": [
    "augmented_list[0][1].shape"
   ]
  },
  {
   "cell_type": "code",
   "execution_count": 18,
   "id": "c2bfaa78",
   "metadata": {},
   "outputs": [
    {
     "data": {
      "text/plain": [
       "55"
      ]
     },
     "execution_count": 18,
     "metadata": {},
     "output_type": "execute_result"
    }
   ],
   "source": [
    "len(augmented_list)"
   ]
  },
  {
   "cell_type": "code",
   "execution_count": 26,
   "id": "a9fe1c98",
   "metadata": {},
   "outputs": [],
   "source": [
    "batch_size=4"
   ]
  },
  {
   "cell_type": "code",
   "execution_count": 30,
   "id": "286ec4ae",
   "metadata": {},
   "outputs": [],
   "source": [
    "augmented_list_batch_wise=[]\n",
    "curr_batch_data=[]\n",
    "curr_batch_labels=[]\n",
    "for sample_idx in range(len(augmented_list)):\n",
    "    if(sample_idx%batch_size==0 and len(curr_batch_data)>0):\n",
    "        augmented_list_batch_wise.append((np.stack(curr_batch_data,axis=0),np.stack(curr_batch_labels,axis=0)))\n",
    "        curr_batch_data=[]\n",
    "        curr_batch_labels=[]\n",
    "    curr_batch_data.append(augmented_list[sample_idx][0])\n",
    "    curr_batch_labels.append(augmented_list[sample_idx][1]) "
   ]
  },
  {
   "cell_type": "code",
   "execution_count": 31,
   "id": "c4556650",
   "metadata": {},
   "outputs": [
    {
     "data": {
      "text/plain": [
       "13"
      ]
     },
     "execution_count": 31,
     "metadata": {},
     "output_type": "execute_result"
    }
   ],
   "source": [
    "len(augmented_list_batch_wise)"
   ]
  },
  {
   "cell_type": "code",
   "execution_count": 35,
   "id": "d2b7b5d6",
   "metadata": {},
   "outputs": [],
   "source": [
    "with open('spectrograms/augmented_list_batch_wise.pickle','wb')as f:\n",
    "    pickle.dump(augmented_list_batch_wise,f)"
   ]
  },
  {
   "cell_type": "code",
   "execution_count": null,
   "id": "70bc4f85",
   "metadata": {},
   "outputs": [],
   "source": []
  },
  {
   "cell_type": "code",
   "execution_count": 50,
   "id": "bdc96798",
   "metadata": {},
   "outputs": [],
   "source": [
    "with open('spectrograms/entire_data.pickle','rb') as f:\n",
    "      ds=pickle.load(f)"
   ]
  },
  {
   "cell_type": "code",
   "execution_count": 51,
   "id": "c9a7d705",
   "metadata": {},
   "outputs": [
    {
     "data": {
      "text/plain": [
       "(480, 640, 3)"
      ]
     },
     "execution_count": 51,
     "metadata": {},
     "output_type": "execute_result"
    }
   ],
   "source": [
    "ds[0][0].shape"
   ]
  },
  {
   "cell_type": "code",
   "execution_count": 52,
   "id": "d8a6a4df",
   "metadata": {},
   "outputs": [],
   "source": [
    "def get_preprocess_fn(is_training, is_pretrain):\n",
    "      return functools.partial(\n",
    "          data_util.preprocess_image,\n",
    "          height=480,\n",
    "          width=640,\n",
    "          is_training=True,\n",
    "          color_jitter_strength=1.0,\n",
    "          test_crop=True)"
   ]
  },
  {
   "cell_type": "code",
   "execution_count": 53,
   "id": "189ffbed",
   "metadata": {},
   "outputs": [],
   "source": [
    "preprocess_fn_finetune = get_preprocess_fn(False, is_pretrain=False)"
   ]
  },
  {
   "cell_type": "code",
   "execution_count": 54,
   "id": "ea72d598",
   "metadata": {},
   "outputs": [],
   "source": [
    "def map_fn(image, label):\n",
    "    image = preprocess_fn_finetune(image)\n",
    "    label = tf.one_hot(label, 3)\n",
    "    return image, label"
   ]
  },
  {
   "cell_type": "code",
   "execution_count": 55,
   "id": "7b868108",
   "metadata": {},
   "outputs": [],
   "source": [
    "fine_tune_list=[]"
   ]
  },
  {
   "cell_type": "code",
   "execution_count": 56,
   "id": "e381f788",
   "metadata": {},
   "outputs": [],
   "source": [
    "for i in range(len(ds)):\n",
    "    fine_tune_list.append(map_fn(ds[i][0],ds[i][1]))   "
   ]
  },
  {
   "cell_type": "code",
   "execution_count": 57,
   "id": "9e251d20",
   "metadata": {},
   "outputs": [],
   "source": [
    "batch_size=4"
   ]
  },
  {
   "cell_type": "code",
   "execution_count": 58,
   "id": "183c05ff",
   "metadata": {},
   "outputs": [],
   "source": [
    "fine_tune_list_batch_wise=[]"
   ]
  },
  {
   "cell_type": "code",
   "execution_count": 59,
   "id": "430acd79",
   "metadata": {},
   "outputs": [],
   "source": [
    "fine_tune_list_batch_wise=[]\n",
    "curr_batch_data=[]\n",
    "curr_batch_labels=[]\n",
    "for sample_idx in range(len(fine_tune_list)):\n",
    "    if(sample_idx%batch_size==0 and len(curr_batch_data)>0):\n",
    "        fine_tune_list_batch_wise.append((np.stack(curr_batch_data,axis=0),np.stack(curr_batch_labels,axis=0)))\n",
    "        curr_batch_data=[]\n",
    "        curr_batch_labels=[]\n",
    "    curr_batch_data.append(fine_tune_list[sample_idx][0])\n",
    "    curr_batch_labels.append(fine_tune_list[sample_idx][1]) "
   ]
  },
  {
   "cell_type": "code",
   "execution_count": 60,
   "id": "fc89d079",
   "metadata": {},
   "outputs": [
    {
     "data": {
      "text/plain": [
       "(4, 480, 640, 3)"
      ]
     },
     "execution_count": 60,
     "metadata": {},
     "output_type": "execute_result"
    }
   ],
   "source": [
    "fine_tune_list_batch_wise[0][0].shape"
   ]
  },
  {
   "cell_type": "code",
   "execution_count": 61,
   "id": "9a69d1f3",
   "metadata": {},
   "outputs": [],
   "source": [
    "with open('spectrograms/fine_tune_list_batch_wise.pickle','wb')as f:\n",
    "    pickle.dump(fine_tune_list_batch_wise,f)"
   ]
  }
 ],
 "metadata": {
  "kernelspec": {
   "display_name": "Python 3 (ipykernel)",
   "language": "python",
   "name": "python3"
  },
  "language_info": {
   "codemirror_mode": {
    "name": "ipython",
    "version": 3
   },
   "file_extension": ".py",
   "mimetype": "text/x-python",
   "name": "python",
   "nbconvert_exporter": "python",
   "pygments_lexer": "ipython3",
   "version": "3.9.17"
  }
 },
 "nbformat": 4,
 "nbformat_minor": 5
}
